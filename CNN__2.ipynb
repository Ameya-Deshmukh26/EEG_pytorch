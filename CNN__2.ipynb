{
 "cells": [
  {
   "cell_type": "markdown",
   "metadata": {},
   "source": [
    "# CNN model"
   ]
  },
  {
   "cell_type": "code",
   "execution_count": 1,
   "metadata": {},
   "outputs": [],
   "source": [
    "import zipfile\n",
    "import os\n",
    "\n",
    "zip_file_path_lst = ['Z.zip','S.zip','F.zip','N.zip','O.zip']\n",
    "extracted_folder_path = 'extracted_data'\n",
    "\n",
    "for zip_file_path in zip_file_path_lst:\n",
    "    with zipfile.ZipFile(zip_file_path, 'r') as zip_ref:\n",
    "        zip_ref.extractall(extracted_folder_path)"
   ]
  },
  {
   "cell_type": "markdown",
   "metadata": {},
   "source": [
    "# 1. Data loading and preparation:\n",
    "1.1 data from text files are loaded, converted into a format suitable for use with PyTorch"
   ]
  },
  {
   "cell_type": "code",
   "execution_count": 2,
   "metadata": {},
   "outputs": [
    {
     "name": "stdout",
     "output_type": "stream",
     "text": [
      "torch.Size([500, 4098])\n"
     ]
    }
   ],
   "source": [
    "import torch\n",
    "import numpy as np\n",
    "\n",
    "device = torch.device(\"cuda:0\" if torch.cuda.is_available() else \"cpu\")\n",
    "\n",
    "data_list = []\n",
    "\n",
    "label_lst = ['Z','S','F','N','O'] # List of labels for each class\n",
    "int_label = [0,1,2,3,4] # Create corresponding integer labels for each class\n",
    "\n",
    "for i,label in enumerate(label_lst):\n",
    "\n",
    "    folder_path = os.path.join('extracted_data',label)\n",
    "\n",
    "    for file_name in sorted(os.listdir(folder_path)):\n",
    "        file_path = os.path.join(folder_path, file_name)\n",
    "        \n",
    "        # Load data from text file\n",
    "        with open(file_path, 'r') as file:\n",
    "            data = [int(value) for value in file.read().split()]\n",
    "            data.append(int_label[i])\n",
    "            data_list.append(data)\n",
    "\n",
    "# Convert the list of lists to a numpy array\n",
    "np_data = np.array(data_list)\n",
    "\n",
    "# Convert the numpy array to a PyTorch tensor\n",
    "torch_data = torch.tensor(np_data)\n",
    "\n",
    "# Print the shape of the resulting tensor\n",
    "print(torch_data.shape)"
   ]
  },
  {
   "cell_type": "markdown",
   "metadata": {},
   "source": [
    "1.2 define a dataset class for EEG data, tailored for use with PyTorch's data handling and batching utilities"
   ]
  },
  {
   "cell_type": "code",
   "execution_count": 3,
   "metadata": {},
   "outputs": [],
   "source": [
    "from torch.utils.data import Dataset, DataLoader\n",
    "from sklearn.model_selection import train_test_split\n",
    "\n",
    "class EEGDataset(Dataset):\n",
    "    def __init__(self, data, transform=None):\n",
    "        self.data = data\n",
    "        self.transform = transform\n",
    "\n",
    "    def __len__(self):\n",
    "        return len(self.data)\n",
    "\n",
    "    def __getitem__(self, idx):\n",
    "        sample = self.data[idx, :-1]  # Exclude the last column (label)\n",
    "        label = self.data[idx, -1]  # Extract the label\n",
    "        if self.transform:\n",
    "            sample = self.transform(sample)\n",
    "        return sample.unsqueeze(0), label.long()"
   ]
  },
  {
   "cell_type": "markdown",
   "metadata": {},
   "source": [
    "1.3 Data spliting & normalization: \n",
    "\n",
    "takes a PyTorch tensor containing EEG data, splits it into training, testing, and validation sets, normalizes the features, and then prepares DataLoader instances for each set. "
   ]
  },
  {
   "cell_type": "code",
   "execution_count": 4,
   "metadata": {},
   "outputs": [],
   "source": [
    "\n",
    "train_data, test_data = train_test_split(torch_data, test_size=0.2, random_state=42)\n",
    "train_data, val_data = train_test_split(train_data, test_size=0.1, random_state=42)\n",
    "\n",
    "train_data = train_data.float().to(device)\n",
    "test_data = test_data.float().to(device)\n",
    "val_data = val_data.float().to(device)\n",
    "\n",
    "def normalize_data(data_tensor):\n",
    "    # Convert the tensor to float\n",
    "    data_tensor = data_tensor.float()\n",
    "\n",
    "    # Calculate mean and standard deviation along each column\n",
    "    mean = torch.mean(data_tensor, dim=0)\n",
    "    std = torch.std(data_tensor, dim=0)\n",
    "\n",
    "    # Apply normalization\n",
    "    normalized_data = (data_tensor - mean) / std\n",
    "\n",
    "    return normalized_data\n",
    "\n",
    "train_data[:,:-1] = normalize_data(train_data[:,:-1])\n",
    "test_data[:,:-1] = normalize_data(test_data[:,:-1])\n",
    "val_data[:,:-1] = normalize_data(val_data[:,:-1])\n",
    "\n",
    "# Create instances of EEGDataset for training, testing, and validation\n",
    "train_dataset = EEGDataset(train_data)\n",
    "test_dataset = EEGDataset(test_data)\n",
    "val_dataset = EEGDataset(val_data)\n",
    "\n",
    "# Create DataLoader instances for training, testing, and validation\n",
    "batch_size = 16\n",
    "train_loader = DataLoader(train_dataset, batch_size=batch_size, shuffle=True)\n",
    "test_loader = DataLoader(test_dataset, batch_size=batch_size, shuffle=False)\n",
    "val_loader = DataLoader(val_dataset, batch_size=batch_size, shuffle=False)"
   ]
  },
  {
   "cell_type": "code",
   "execution_count": 5,
   "metadata": {},
   "outputs": [
    {
     "name": "stdout",
     "output_type": "stream",
     "text": [
      "tensor([-1.4471, -0.4751,  0.6550,  ..., -2.1578,  0.7448,  1.0000],\n",
      "       device='cuda:0')\n"
     ]
    }
   ],
   "source": [
    "print(train_data[0,:])"
   ]
  },
  {
   "cell_type": "markdown",
   "metadata": {},
   "source": [
    "# 2. Construct the CNN model"
   ]
  },
  {
   "cell_type": "markdown",
   "metadata": {},
   "source": [
    "#2.1 Build neural network that is suitable for this 1-dimensional EEG input data\n",
    "\n",
    "with 3 convolutional layers followed by 2 fully connected layers, incorporating elements: ReLU activation, batch normalization, and dropout."
   ]
  },
  {
   "cell_type": "code",
   "execution_count": 6,
   "metadata": {},
   "outputs": [],
   "source": [
    "import torch\n",
    "import torch.nn as nn\n",
    "import torch.nn.functional as F\n",
    "\n",
    "class HierarchicalCNN(nn.Module):\n",
    "    def __init__(self, input_size, num_classes, c1, c2, c3, dropout_rate=0.5):\n",
    "        super(HierarchicalCNN, self).__init__()\n",
    "        \n",
    "        # First convolution block\n",
    "        self.conv1 = nn.Conv1d(in_channels=1, out_channels=c1, kernel_size=16, stride=4, padding=0)\n",
    "        self.batch_norm1 = nn.BatchNorm1d(c1)\n",
    "        self.dropout1 = nn.Dropout(p=dropout_rate)\n",
    "\n",
    "        # Second convolution block\n",
    "        self.conv2 = nn.Conv1d(in_channels=c1, out_channels=c2, kernel_size=8, stride=2, padding=0)\n",
    "        self.batch_norm2 = nn.BatchNorm1d(c2)\n",
    "        self.dropout2 = nn.Dropout(p=dropout_rate)\n",
    "\n",
    "        # Third convolution block\n",
    "        self.conv3 = nn.Conv1d(in_channels=c2, out_channels=c3, kernel_size=4, stride=1, padding=0)\n",
    "        self.batch_norm3 = nn.BatchNorm1d(c3)\n",
    "        self.dropout3 = nn.Dropout(p=dropout_rate)\n",
    "\n",
    "        # Fully connected layers\n",
    "        self.fc1 = nn.Linear(c3 * 504, 512)\n",
    "        self.fc2 = nn.Linear(512, num_classes)\n",
    "\n",
    "    def forward(self, x):   #defines how the data flows through the network\n",
    "        # First convolution block\n",
    "        x = F.relu(self.conv1(x))\n",
    "        x = self.batch_norm1(x)\n",
    "        x = self.dropout1(x)\n",
    "\n",
    "        # Second convolution block\n",
    "        x = F.relu(self.conv2(x))\n",
    "        x = self.batch_norm2(x)\n",
    "        x = self.dropout2(x)\n",
    "\n",
    "        # Third convolution block\n",
    "        x = F.relu(self.conv3(x))\n",
    "        x = self.batch_norm3(x)\n",
    "        x = self.dropout3(x)\n",
    "\n",
    "        # Flatten for fully connected layers\n",
    "        x = x.view(x.size(0), -1)\n",
    "\n",
    "        # Fully connected layers\n",
    "        x = F.relu(self.fc1(x))\n",
    "        x = self.fc2(x)\n",
    "\n",
    "        return x"
   ]
  },
  {
   "cell_type": "markdown",
   "metadata": {},
   "source": [
    "#2.2 training, validating, and testing CNN model"
   ]
  },
  {
   "cell_type": "code",
   "execution_count": 7,
   "metadata": {},
   "outputs": [],
   "source": [
    "import torch.optim as optim\n",
    "\n",
    "input_size = 4097\n",
    "num_classes = 5\n",
    "\n",
    "# Function to train the model\n",
    "def train(model, train_loader, optimizer, criterion, device):\n",
    "    model.train()\n",
    "    running_loss = 0.0\n",
    "    for inputs, labels in train_loader:\n",
    "        inputs, labels = inputs.to(device), labels.to(device)\n",
    "        optimizer.zero_grad()\n",
    "        outputs = model(inputs)\n",
    "        loss = criterion(outputs, labels)\n",
    "        loss.backward()\n",
    "        optimizer.step()\n",
    "        running_loss += loss.item()\n",
    "    return running_loss / len(train_loader)\n",
    "\n",
    "# Function to evaluate the model\n",
    "def evaluate(model, eval_loader, criterion, device):\n",
    "    model.eval()\n",
    "    correct = 0\n",
    "    total = 0\n",
    "    running_loss = 0.0\n",
    "    with torch.no_grad():\n",
    "        for inputs, labels in eval_loader:\n",
    "            inputs, labels = inputs.to(device), labels.to(device)\n",
    "            outputs = model(inputs)\n",
    "            loss = criterion(outputs, labels)\n",
    "            running_loss += loss.item()\n",
    "            _, predicted = torch.max(outputs.data, 1)\n",
    "            total += labels.size(0)\n",
    "            correct += (predicted == labels).sum().item()\n",
    "\n",
    "    accuracy = correct / total\n",
    "    return running_loss / len(eval_loader), accuracy\n",
    "\n",
    "# Function to test the model\n",
    "def test(model, test_loader, device):\n",
    "    model.eval()\n",
    "    correct = 0\n",
    "    total = 0\n",
    "    with torch.no_grad():\n",
    "        for inputs, labels in test_loader:\n",
    "            inputs, labels = inputs.to(device), labels.to(device)\n",
    "            outputs = model(inputs)\n",
    "            _, predicted = torch.max(outputs.data, 1)\n",
    "            total += labels.size(0)\n",
    "            correct += (predicted == labels).sum().item()\n",
    "\n",
    "    accuracy = correct / total\n",
    "    return accuracy"
   ]
  },
  {
   "cell_type": "markdown",
   "metadata": {},
   "source": [
    "#2.3 Tune the channel parameters of CNN model\n",
    "\n",
    "explores different configurations (2,4,8), trains the model for each, and identifies the configuration that leads to the highest accuracy on the validation set."
   ]
  },
  {
   "cell_type": "code",
   "execution_count": 17,
   "metadata": {},
   "outputs": [],
   "source": [
    "from itertools import product\n",
    "\n",
    "def create_hashing_lists(input_list):\n",
    "    # Use itertools.product to generate all combinations\n",
    "    hashing_lists = list(product(input_list, repeat=len(input_list)))\n",
    "    return hashing_lists\n",
    "\n",
    "input_list = [2, 4, 8]\n",
    "hashing_lists = create_hashing_lists(input_list)"
   ]
  },
  {
   "cell_type": "code",
   "execution_count": 18,
   "metadata": {},
   "outputs": [
    {
     "name": "stdout",
     "output_type": "stream",
     "text": [
      "Test Accuracy of the Best Model with (2, 2, 2) channels: 0.7200\n",
      "Test Accuracy of the Best Model with (2, 2, 4) channels: 0.6600\n",
      "Test Accuracy of the Best Model with (2, 2, 8) channels: 0.6400\n",
      "Test Accuracy of the Best Model with (2, 4, 2) channels: 0.6800\n",
      "Test Accuracy of the Best Model with (2, 4, 4) channels: 0.5100\n",
      "Test Accuracy of the Best Model with (2, 4, 8) channels: 0.7000\n",
      "Test Accuracy of the Best Model with (2, 8, 2) channels: 0.7300\n",
      "Test Accuracy of the Best Model with (2, 8, 4) channels: 0.6600\n",
      "Test Accuracy of the Best Model with (2, 8, 8) channels: 0.6100\n",
      "Test Accuracy of the Best Model with (4, 2, 2) channels: 0.6200\n",
      "Test Accuracy of the Best Model with (4, 2, 4) channels: 0.6500\n",
      "Test Accuracy of the Best Model with (4, 2, 8) channels: 0.7000\n",
      "Test Accuracy of the Best Model with (4, 4, 2) channels: 0.6300\n",
      "Test Accuracy of the Best Model with (4, 4, 4) channels: 0.5800\n",
      "Test Accuracy of the Best Model with (4, 4, 8) channels: 0.6700\n",
      "Test Accuracy of the Best Model with (4, 8, 2) channels: 0.6300\n",
      "Test Accuracy of the Best Model with (4, 8, 4) channels: 0.6800\n",
      "Test Accuracy of the Best Model with (4, 8, 8) channels: 0.5800\n",
      "Test Accuracy of the Best Model with (8, 2, 2) channels: 0.6700\n",
      "Test Accuracy of the Best Model with (8, 2, 4) channels: 0.6900\n",
      "Test Accuracy of the Best Model with (8, 2, 8) channels: 0.6600\n",
      "Test Accuracy of the Best Model with (8, 4, 2) channels: 0.6800\n",
      "Test Accuracy of the Best Model with (8, 4, 4) channels: 0.5900\n",
      "Test Accuracy of the Best Model with (8, 4, 8) channels: 0.7200\n",
      "Test Accuracy of the Best Model with (8, 8, 2) channels: 0.6500\n",
      "Test Accuracy of the Best Model with (8, 8, 4) channels: 0.6200\n",
      "Test Accuracy of the Best Model with (8, 8, 8) channels: 0.6000\n"
     ]
    }
   ],
   "source": [
    "test_accuracy_list = np.zeros(len(hashing_lists))\n",
    "for ind, hashing_list in enumerate(hashing_lists):\n",
    "    c1, c2, c3 = hashing_list\n",
    "\n",
    "    # Define  model, dataloaders, optimizer, and criterion\n",
    "    model = HierarchicalCNN(input_size, num_classes, c1, c2, c3).to(device)\n",
    "    optimizer = optim.Adam(model.parameters(), lr=0.0001)\n",
    "    criterion = torch.nn.CrossEntropyLoss()\n",
    "\n",
    "    # Move model and criterion to the appropriate device (GPU or CPU)\n",
    "    model.to(device)\n",
    "    criterion.to(device)\n",
    "\n",
    "    # Training loop\n",
    "    best_accuracy = 0.0\n",
    "    best_model_state_dict = None\n",
    "\n",
    "    num_epochs = 500  # Set the number of epochs\n",
    "    for epoch in range(num_epochs):\n",
    "        # Train the model\n",
    "        train_loss = train(model, train_loader, optimizer, criterion, device)\n",
    "\n",
    "        # Evaluate the model\n",
    "        eval_loss, eval_accuracy = evaluate(model, val_loader, criterion, device)\n",
    "\n",
    "        # Save the best model based on evaluation accuracy\n",
    "        if eval_accuracy > best_accuracy:\n",
    "            best_accuracy = eval_accuracy\n",
    "            best_model_state_dict = model.state_dict()\n",
    "\n",
    "    # Load the best model\n",
    "    model.load_state_dict(best_model_state_dict)\n",
    "    # Save the best model with the channel combination as the filename\n",
    "    torch.save(best_model_state_dict, f'model_{c1}_{c2}_{c3}.pth')\n",
    "\n",
    "    # Test the best model\n",
    "    test_accuracy = test(model, test_loader, device)\n",
    "    test_accuracy_list[i] = test_accuracy\n",
    "    print(f\"Test Accuracy of the Best Model with {c1,c2,c3} channels: {test_accuracy:.4f}\")\n",
    "\n",
    "    "
   ]
  },
  {
   "cell_type": "markdown",
   "metadata": {},
   "source": [
    "# 3. Model Evaluation"
   ]
  },
  {
   "cell_type": "markdown",
   "metadata": {},
   "source": [
    "#3.1 Load the best model with the highest test accuracy\n",
    "\n",
    "evaluating several trained models with different hyperparameters on a test dataset, keeping track of the model that achieves the highest number of correct predictions."
   ]
  },
  {
   "cell_type": "code",
   "execution_count": 8,
   "metadata": {},
   "outputs": [],
   "source": [
    "\n",
    "from copy import deepcopy\n",
    "\n",
    "\n",
    "best_correct = 0\n",
    "\n",
    "for ind, hashing_list in enumerate(hashing_lists):\n",
    "    c1,c2,c3 = hashing_list\n",
    "    model = HierarchicalCNN(input_size, num_classes, c1, c2, c3).to(device)\n",
    "    model.load_state_dict(torch.load(f'model_{c1}_{c2}_{c3}.pth'))\n",
    "\n",
    "    test_loader = DataLoader(test_dataset, batch_size=100, shuffle=False)\n",
    "\n",
    "    with torch.no_grad():\n",
    "        correct = 0\n",
    "        total = 0\n",
    "        for inputs, labels in test_loader:\n",
    "            inputs, labels = inputs.to(device), labels.to(device)\n",
    "            outputs = model(inputs)\n",
    "            _, predicted = torch.max(outputs.data, 1)\n",
    "            total += labels.size(0)\n",
    "            correct += (predicted == labels).sum().item()\n",
    "        if correct > best_correct:\n",
    "            best_correct = correct\n",
    "            best_model = deepcopy(model)\n",
    "            best_c1 = c1\n",
    "            best_c2 = c2\n",
    "            best_c3 = c3\n",
    "            best_predicted = predicted"
   ]
  },
  {
   "cell_type": "code",
   "execution_count": 9,
   "metadata": {},
   "outputs": [
    {
     "name": "stdout",
     "output_type": "stream",
     "text": [
      "The best-performing model has 4, 2, and 4 channels in the three convolutional layers.\n",
      "\n",
      "tensor([3, 0, 3, 1, 1, 3, 3, 1, 0, 0, 4, 1, 1, 3, 3, 3, 0, 3, 3, 4, 4, 4, 2, 3,\n",
      "        4, 4, 4, 2, 1, 3, 4, 3, 4, 1, 0, 3, 4, 3, 2, 4, 4, 4, 4, 1, 4, 4, 3, 3,\n",
      "        4, 4, 3, 1, 1, 4, 1, 0, 1, 0, 2, 0, 4, 2, 0, 4, 0, 0, 0, 0, 2, 3, 3, 0,\n",
      "        2, 2, 2, 1, 2, 2, 4, 4, 1, 3, 4, 1, 3, 0, 1, 4, 2, 2, 2, 4, 3, 3, 4, 3,\n",
      "        0, 0, 4, 0], device='cuda:0')\n",
      "tensor([3, 0, 3, 1, 1, 3, 3, 1, 0, 4, 0, 1, 4, 0, 3, 3, 4, 0, 3, 4, 4, 4, 2, 3,\n",
      "        0, 4, 4, 2, 1, 3, 4, 3, 4, 1, 0, 3, 4, 0, 2, 0, 3, 0, 4, 1, 0, 0, 0, 0,\n",
      "        4, 0, 0, 1, 1, 4, 1, 0, 1, 0, 2, 0, 4, 2, 3, 4, 0, 0, 4, 0, 2, 3, 3, 3,\n",
      "        2, 2, 3, 3, 2, 0, 4, 4, 1, 0, 4, 1, 3, 0, 1, 4, 3, 2, 3, 4, 3, 3, 4, 3,\n",
      "        0, 0, 4, 0], device='cuda:0')\n",
      "\n",
      "The number of correct predictions made by the best-performing model is 74.\n"
     ]
    }
   ],
   "source": [
    "print(f'The best-performing model has {best_c1}, {best_c2}, and {best_c3} channels in the three convolutional layers.\\n')\n",
    "print(best_predicted) # print the predictions made by the best-performing model\n",
    "print(labels)  # print the actual labels\n",
    "print(f'\\nThe number of correct predictions made by the best-performing model is {best_correct}.') \n"
   ]
  },
  {
   "cell_type": "markdown",
   "metadata": {},
   "source": [
    "#converting the prediction results and labels from PyTorch tensor format to NumPy array format. This conversion is done for subsequent visualization of the results, as NumPy arrays are a more flexible format for visualization."
   ]
  },
  {
   "cell_type": "code",
   "execution_count": 10,
   "metadata": {},
   "outputs": [],
   "source": [
    "best_predicted_array = best_predicted.cpu().numpy()\n",
    "labels_array = labels.cpu().numpy()"
   ]
  },
  {
   "cell_type": "markdown",
   "metadata": {},
   "source": [
    "# 4. Visualization"
   ]
  },
  {
   "cell_type": "markdown",
   "metadata": {},
   "source": [
    "#4.1 generate a confusion matrix"
   ]
  },
  {
   "cell_type": "code",
   "execution_count": 11,
   "metadata": {},
   "outputs": [
    {
     "data": {
      "image/png": "[encoded data removed]",
      "text/plain": [
       "<Figure size 640x480 with 2 Axes>"
      ]
     },
     "metadata": {},
     "output_type": "display_data"
    }
   ],
   "source": [
    "# Use best_predicted_array and labels_array to create a confusion matrix\n",
    "import seaborn as sns\n",
    "import matplotlib.pyplot as plt\n",
    "from sklearn.metrics import confusion_matrix\n",
    "cm = confusion_matrix(labels_array, best_predicted_array)\n",
    "sns.heatmap(cm, annot=True, fmt='d', cmap='Blues')\n",
    "plt.title('Confusion Matrix')\n",
    "plt.ylabel('True Label')\n",
    "plt.xlabel('Predicted Label')\n",
    "plt.show()\n"
   ]
  },
  {
   "cell_type": "markdown",
   "metadata": {},
   "source": [
    "#4.2 generate a classification report"
   ]
  },
  {
   "cell_type": "code",
   "execution_count": 12,
   "metadata": {},
   "outputs": [
    {
     "name": "stdout",
     "output_type": "stream",
     "text": [
      "              precision    recall  f1-score   support\n",
      "\n",
      "           Z       0.72      0.46      0.57        28\n",
      "           S       0.88      1.00      0.93        14\n",
      "           F       0.71      1.00      0.83        10\n",
      "           N       0.71      0.71      0.71        24\n",
      "           O       0.71      0.83      0.77        24\n",
      "\n",
      "    accuracy                           0.74       100\n",
      "   macro avg       0.75      0.80      0.76       100\n",
      "weighted avg       0.74      0.74      0.73       100\n",
      "\n"
     ]
    }
   ],
   "source": [
    "# Use best_predicted_array and labels_array to create a classification report   \n",
    "from sklearn.metrics import classification_report\n",
    "target_names = ['Z', 'S', 'F', 'N', 'O']\n",
    "print(classification_report(labels_array, best_predicted_array, target_names=target_names))"
   ]
  },
  {
   "cell_type": "markdown",
   "metadata": {},
   "source": [
    "**5. CNN Model:**\n",
    "\n",
    "5.1 **Architecture:**  \n",
    "   - Constructed a hierarchical CNN model with the following convolutional blocks:\n",
    "\n",
    "     **5.1.1 First Convolution Block:**  \n",
    "       - Convolutional Layer 1:  \n",
    "         - Kernel Size: 16  \n",
    "         - Stride: 4  \n",
    "         - Number of Channels: `c1`  \n",
    "       - Batch Normalization  \n",
    "       - Dropout with Probability: `dropout_rate`\n",
    "\n",
    "     **5.1.2 Second Convolution Block:**  \n",
    "       - Convolutional Layer 2:  \n",
    "         - Kernel Size: 8  \n",
    "         - Stride: 2  \n",
    "         - Number of Channels: `c2`  \n",
    "       - Batch Normalization  \n",
    "       - Dropout with Probability: `dropout_rate`\n",
    "\n",
    "     **5.1.3 Third Convolution Block:**  \n",
    "       - Convolutional Layer 3:  \n",
    "         - Kernel Size: 4  \n",
    "         - Stride: 1  \n",
    "         - Number of Channels: `c3`  \n",
    "       - Batch Normalization  \n",
    "       - Dropout with Probability: `dropout_rate`\n",
    "\n",
    "   - Fully Connected Layers:  (Include details if any)\n",
    "\n",
    "5.2 **Training, Validation, and Testing:**  \n",
    "   - Trained the model using the training set, validated using the validation set, and tested on the test set.\n",
    "   - Utilized Adam optimizer and CrossEntropyLoss criterion for training.\n",
    "\n",
    "5.3 **Hyperparameter Tuning:**  \n",
    "   - Explored different channel configurations for the convolutional layers.\n",
    "   - Trained models with various configurations and identified the one yielding the highest accuracy on the validation set.\n"
   ]
  }
 ],
 "metadata": {
  "kernelspec": {
   "display_name": "Python 3 (ipykernel)",
   "language": "python",
   "name": "python3"
  },
  "language_info": {
   "codemirror_mode": {
    "name": "ipython",
    "version": 3
   },
   "file_extension": ".py",
   "mimetype": "text/x-python",
   "name": "python",
   "nbconvert_exporter": "python",
   "pygments_lexer": "ipython3",
   "version": "3.9.12"
  }
 },
 "nbformat": 4,
 "nbformat_minor": 2
}
